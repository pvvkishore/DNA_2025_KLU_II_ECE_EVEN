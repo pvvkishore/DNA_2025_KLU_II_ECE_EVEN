{
 "cells": [
  {
   "cell_type": "markdown",
   "id": "c1c7201a-3261-49ea-a611-de735aec45ab",
   "metadata": {},
   "source": [
    "# Exp_4: Design, Train and Test a recurrent neural network (RNN) on a dataset to predict the next number in the following sequence X = [1,4,7,11,14]."
   ]
  },
  {
   "cell_type": "code",
   "execution_count": null,
   "id": "5655c26e-4a1c-4530-a69b-d2838e0dff6f",
   "metadata": {},
   "outputs": [],
   "source": [
    "import torch\n",
    "import torch.nn as nn\n",
    "import torch.optim as optim\n",
    "import numpy as np"
   ]
  },
  {
   "cell_type": "code",
   "execution_count": null,
   "id": "89cd9f29-8033-4e94-848e-37e3ebd27eed",
   "metadata": {},
   "outputs": [],
   "source": [
    "# Define the RNN model\n",
    "class RNNPredictor(nn.Module):\n",
    "    def __init__(self, input_size, hidden_size, output_size, num_layers=1):\n",
    "        super(RNNPredictor, self).__init__()\n",
    "        self.hidden_size = hidden_size\n",
    "        self.num_layers = num_layers\n",
    "        self.rnn = nn.RNN(input_size, hidden_size, num_layers, batch_first=True)\n",
    "        self.fc = nn.Linear(hidden_size, output_size)\n",
    "    \n",
    "    def forward(self, x, h):\n",
    "        out, h = self.rnn(x, h)\n",
    "        out = self.fc(out[:, -1, :])  # Get last time step output\n",
    "        return out, h"
   ]
  },
  {
   "cell_type": "code",
   "execution_count": null,
   "id": "35e63af6-b092-4e71-9c08-1974c820e988",
   "metadata": {},
   "outputs": [],
   "source": [
    "# Generate data\n",
    "def create_data(sequence):\n",
    "    X, Y = [], []\n",
    "    for i in range(len(sequence) - 1):\n",
    "        X.append([sequence[i]])\n",
    "        Y.append(sequence[i+1])\n",
    "    return torch.tensor(X, dtype=torch.float32).unsqueeze(1), torch.tensor(Y, dtype=torch.float32)"
   ]
  },
  {
   "cell_type": "code",
   "execution_count": null,
   "id": "71f72933-03a2-43c9-a275-ce1fedab9fe2",
   "metadata": {},
   "outputs": [],
   "source": [
    "# Define sequence and data\n",
    "sequence = [1, 4, 7, 11, 14, 17, 20]\n",
    "X_train, Y_train = create_data(sequence)"
   ]
  },
  {
   "cell_type": "code",
   "execution_count": null,
   "id": "deac0948-c478-4263-9d51-5bb1f165b62a",
   "metadata": {},
   "outputs": [],
   "source": [
    "X_train, Y_train"
   ]
  },
  {
   "cell_type": "code",
   "execution_count": null,
   "id": "e3fbb156-18fe-457d-971b-c1fe5ad3fea6",
   "metadata": {},
   "outputs": [],
   "source": [
    "# Model parameters\n",
    "input_size = 1\n",
    "hidden_size = 16\n",
    "output_size = 1\n",
    "num_layers = 1"
   ]
  },
  {
   "cell_type": "code",
   "execution_count": null,
   "id": "e9992297-95d9-453f-8830-d5f2dd25a25b",
   "metadata": {},
   "outputs": [],
   "source": [
    "# Initialize model, loss, and optimizer\n",
    "model = RNNPredictor(input_size, hidden_size, output_size, num_layers)\n",
    "criterion = nn.MSELoss()\n",
    "optimizer = optim.Adam(model.parameters(), lr=0.01)"
   ]
  },
  {
   "cell_type": "code",
   "execution_count": null,
   "id": "954c7b6f-d10a-4a03-ba0f-7d7fb934660b",
   "metadata": {},
   "outputs": [],
   "source": [
    "# Training loop\n",
    "epochs = 1000\n",
    "for epoch in range(epochs):\n",
    "    batch_size = X_train.shape[0]  # Get batch size dynamically\n",
    "    h = torch.zeros(num_layers, batch_size, hidden_size)  # Initialize hidden state\n",
    "    \n",
    "    optimizer.zero_grad()\n",
    "    output, _ = model(X_train, h)\n",
    "    loss = criterion(output.squeeze(), Y_train)\n",
    "    loss.backward()\n",
    "    optimizer.step()\n",
    "\n",
    "    if (epoch + 1) % 20 == 0:\n",
    "        print(f'Epoch [{epoch+1}/{epochs}], Loss: {loss.item():.4f}')"
   ]
  },
  {
   "cell_type": "code",
   "execution_count": null,
   "id": "d248832f-849d-4c02-8787-45183a1378f6",
   "metadata": {},
   "outputs": [],
   "source": [
    "# Testing the model\n",
    "h = torch.zeros(num_layers, 1, hidden_size)  # Batch size = 1 for testing\n",
    "x_test = torch.tensor([[14]], dtype=torch.float32).unsqueeze(0)  # Shape: (1, 1, 1)\n",
    "predicted, _ = model(x_test, h)\n",
    "print(f'Predicted next number: {predicted.item():.2f}')"
   ]
  },
  {
   "cell_type": "markdown",
   "id": "050b729d-125d-47fb-b660-3f26132abf0a",
   "metadata": {},
   "source": [
    "# What are my eq's in RNN model h(t) = tanh(h(t-1)*Wh + x(t))*Wx + bh), Y = sigma(h(t)*wy + by)"
   ]
  },
  {
   "cell_type": "code",
   "execution_count": 1,
   "id": "c3111b1f-b9c8-4994-8ebb-48df4ec675b9",
   "metadata": {},
   "outputs": [],
   "source": [
    "import numpy as np"
   ]
  },
  {
   "cell_type": "code",
   "execution_count": 2,
   "id": "262aeb8d-0c0d-435b-90ea-09a9a3afb2ef",
   "metadata": {},
   "outputs": [],
   "source": [
    "class SimpleRNNCell:\n",
    "    def __init__(self, input_size, hidden_size, output_size):\n",
    "        self.hidden_size = hidden_size\n",
    "\n",
    "        # Weight initialization\n",
    "        self.W_x = np.random.randn(hidden_size, input_size)*0.1\n",
    "        self.W_h = np.random.randn(hidden_size, hidden_size)*0.1\n",
    "        self.b_h = np.zeros((hidden_size,1))\n",
    "        self.W_y = np.random.randn(output_size, hidden_size) * 0.1\n",
    "        self.b_y = np.zeros((output_size, 1))\n",
    "\n",
    "    def forward(self, x_t, h_prev):\n",
    "        # Compute new hidden state\n",
    "        h_t = np.tanh(np.dot(self.W_x, x_t) + np.dot(self.W_h, h_prev) + self.b_h)\n",
    "        \n",
    "        # Compute output\n",
    "        y_t = np.dot(self.W_y, h_t) + self.b_y\n",
    "        \n",
    "        return h_t, y_t"
   ]
  },
  {
   "cell_type": "code",
   "execution_count": 3,
   "id": "775be9fe-b4da-4622-88e5-7cedc1b32b9e",
   "metadata": {},
   "outputs": [],
   "source": [
    "# Training data\n",
    "#sequence = np.array([1, 4, 7, 11, 14])\n",
    "sequence = np.array([1, 2, 3,4,5])\n",
    "X_train = sequence[:-1].reshape(-1, 1, 1)  # Inputs: [1], [4], [7], [11]\n",
    "Y_train = sequence[1:].reshape(-1, 1, 1)   # Targets: [4], [7], [11], [14]"
   ]
  },
  {
   "cell_type": "code",
   "execution_count": 4,
   "id": "254418c2-5852-43f4-86df-d4291d2f7c5e",
   "metadata": {},
   "outputs": [],
   "source": [
    "# Hyperparameters\n",
    "input_size = 1\n",
    "hidden_size = 5\n",
    "output_size = 1\n",
    "learning_rate = 0.01\n",
    "epochs = 500"
   ]
  },
  {
   "cell_type": "code",
   "execution_count": 5,
   "id": "b0674675-06c3-4a7e-ac72-ab1845d08f6c",
   "metadata": {},
   "outputs": [],
   "source": [
    "# Initialize RNN cell\n",
    "rnn_cell = SimpleRNNCell(input_size, hidden_size, output_size)"
   ]
  },
  {
   "cell_type": "code",
   "execution_count": 6,
   "id": "d238c42b-331e-491e-b65c-b497c1e83614",
   "metadata": {},
   "outputs": [
    {
     "name": "stdout",
     "output_type": "stream",
     "text": [
      "Epoch 50, Loss: 0.2092\n",
      "Epoch 100, Loss: 0.0850\n",
      "Epoch 150, Loss: 0.0157\n",
      "Epoch 200, Loss: 0.0014\n",
      "Epoch 250, Loss: 0.0001\n",
      "Epoch 300, Loss: 0.0000\n",
      "Epoch 350, Loss: 0.0000\n",
      "Epoch 400, Loss: 0.0000\n",
      "Epoch 450, Loss: 0.0000\n",
      "Epoch 500, Loss: 0.0000\n"
     ]
    }
   ],
   "source": [
    "# Training loop\n",
    "h_prev = np.zeros((hidden_size, 1))  # Initial hidden state\n",
    "for epoch in range(epochs):\n",
    "    total_loss = 0\n",
    "    \n",
    "    for i in range(len(X_train)):\n",
    "        x_t = X_train[i].reshape(1, 1)\n",
    "        y_true = Y_train[i].reshape(1, 1)\n",
    "        \n",
    "        # Forward pass\n",
    "        h_t, y_pred = rnn_cell.forward(x_t, h_prev)\n",
    "        \n",
    "        # Compute loss (Mean Squared Error)\n",
    "        loss = np.square(y_true - y_pred).sum()\n",
    "        total_loss += loss\n",
    "        \n",
    "        # Backpropagation (Gradient Descent)\n",
    "        dL_dy = -2 * (y_true - y_pred)  # Gradient of loss w.r.t output\n",
    "        dL_dWy = np.dot(dL_dy, h_t.T)\n",
    "        dL_dby = dL_dy\n",
    "        \n",
    "        dL_dh = np.dot(rnn_cell.W_y.T, dL_dy) * (1 - h_t**2)  # tanh derivative\n",
    "        dL_dWx = np.dot(dL_dh, x_t.T)\n",
    "        dL_dWh = np.dot(dL_dh, h_prev.T)\n",
    "        dL_dbh = dL_dh\n",
    "        \n",
    "        # Update weights\n",
    "        rnn_cell.W_y -= learning_rate * dL_dWy\n",
    "        rnn_cell.b_y -= learning_rate * dL_dby\n",
    "        rnn_cell.W_x -= learning_rate * dL_dWx\n",
    "        rnn_cell.W_h -= learning_rate * dL_dWh\n",
    "        rnn_cell.b_h -= learning_rate * dL_dbh\n",
    "        \n",
    "        h_prev = h_t  # Update hidden state for next time step\n",
    "    \n",
    "    if (epoch + 1) % 50 == 0:\n",
    "        print(f'Epoch {epoch+1}, Loss: {total_loss:.4f}')"
   ]
  },
  {
   "cell_type": "code",
   "execution_count": 8,
   "id": "b5128d71-adc1-48be-b29d-4a7edd3e676f",
   "metadata": {},
   "outputs": [
    {
     "name": "stdout",
     "output_type": "stream",
     "text": [
      "Predicted next number: 3.47\n"
     ]
    }
   ],
   "source": [
    "# Testing the RNN\n",
    "h_prev = np.zeros((hidden_size, 1))\n",
    "x_test = np.array([[5]])  # Predict next number\n",
    "h_t, y_pred = rnn_cell.forward(x_test, h_prev)\n",
    "print(f'Predicted next number: {y_pred.item():.2f}')"
   ]
  },
  {
   "cell_type": "code",
   "execution_count": 9,
   "id": "4da524b2-8c44-46f4-a269-2921dacf8210",
   "metadata": {},
   "outputs": [
    {
     "name": "stdout",
     "output_type": "stream",
     "text": [
      "Total trainable parameters: 41\n"
     ]
    }
   ],
   "source": [
    "# Calculate total trainable parameters\n",
    "def count_parameters():\n",
    "    param_count = (\n",
    "        rnn_cell.W_x.size +  # Input weight\n",
    "        rnn_cell.W_h.size +  # Hidden weight\n",
    "        rnn_cell.b_h.size +  # Hidden bias\n",
    "        rnn_cell.W_y.size +  # Output weight\n",
    "        rnn_cell.b_y.size    # Output bias\n",
    "    )\n",
    "    return param_count\n",
    "\n",
    "print(f'Total trainable parameters: {count_parameters()}')"
   ]
  },
  {
   "cell_type": "code",
   "execution_count": 10,
   "id": "38595851-85c3-4f7f-8166-a6bfaf24c619",
   "metadata": {},
   "outputs": [
    {
     "data": {
      "image/png": "[encoded data removed]",
      "text/plain": [
       "<Figure size 800x600 with 1 Axes>"
      ]
     },
     "metadata": {},
     "output_type": "display_data"
    }
   ],
   "source": [
    "import networkx as nx\n",
    "import matplotlib.pyplot as plt\n",
    "\n",
    "# Create a directed graph\n",
    "G = nx.DiGraph()\n",
    "\n",
    "# Add nodes\n",
    "G.add_node(\"x_t\", color=\"blue\")\n",
    "G.add_node(\"h_t-1\", color=\"orange\")\n",
    "G.add_node(\"h_t\", color=\"green\")\n",
    "G.add_node(\"y_t\", color=\"red\")\n",
    "G.add_node(\"W_x\", color=\"gray\")\n",
    "G.add_node(\"W_h\", color=\"gray\")\n",
    "G.add_node(\"W_y\", color=\"gray\")\n",
    "G.add_node(\"b_h\", color=\"gray\")\n",
    "G.add_node(\"b_y\", color=\"gray\")\n",
    "G.add_node(\"tanh\", color=\"purple\")\n",
    "\n",
    "# Add edges\n",
    "edges = [\n",
    "    (\"x_t\", \"W_x\"), (\"W_x\", \"h_t\"),\n",
    "    (\"h_t-1\", \"W_h\"), (\"W_h\", \"h_t\"),\n",
    "    (\"b_h\", \"h_t\"),\n",
    "    (\"h_t\", \"tanh\"), (\"tanh\", \"h_t\"),\n",
    "    (\"h_t\", \"W_y\"), (\"W_y\", \"y_t\"),\n",
    "    (\"b_y\", \"y_t\")\n",
    "]\n",
    "\n",
    "G.add_edges_from(edges)\n",
    "\n",
    "# Define positions\n",
    "pos = {\n",
    "    \"x_t\": (-1, 1), \"W_x\": (0, 1), \"h_t-1\": (-1, 0), \"W_h\": (0, 0),\n",
    "    \"h_t\": (1, 0.5), \"tanh\": (0.5, 0.5), \"W_y\": (1.5, 0.5), \"y_t\": (2, 0.5),\n",
    "    \"b_h\": (0, -0.5), \"b_y\": (1.5, -0.5)\n",
    "}\n",
    "\n",
    "# Draw the graph\n",
    "plt.figure(figsize=(8, 6))\n",
    "colors = [G.nodes[n][\"color\"] for n in G.nodes]\n",
    "nx.draw(G, pos, with_labels=True, node_color=colors, node_size=3000, edge_color=\"black\", font_size=10)\n",
    "plt.title(\"Simple RNN Cell Visualization\")\n",
    "plt.show()"
   ]
  },
  {
   "cell_type": "markdown",
   "id": "b3c73887-de8c-4957-95bd-ad8e73e732cf",
   "metadata": {},
   "source": [
    "# Hidden States = 5, h_t = 5, How many inputs for 5 hidden states, = 5 with its own weight. W_x = 5x1 = 5\n",
    "# W_h = 5(h_t) X 5(h_t-1) = 25\n",
    "# bh = 5\n",
    "# W_y = 5 X 1 = 5\n",
    "# b_y = 1\n",
    "# Total Trainable Parameters = 41"
   ]
  }
 ],
 "metadata": {
  "kernelspec": {
   "display_name": "Python 3 (ipykernel)",
   "language": "python",
   "name": "python3"
  },
  "language_info": {
   "codemirror_mode": {
    "name": "ipython",
    "version": 3
   },
   "file_extension": ".py",
   "mimetype": "text/x-python",
   "name": "python",
   "nbconvert_exporter": "python",
   "pygments_lexer": "ipython3",
   "version": "3.11.7"
  }
 },
 "nbformat": 4,
 "nbformat_minor": 5
}
